{
 "cells": [
  {
   "cell_type": "code",
   "execution_count": 8,
   "metadata": {},
   "outputs": [],
   "source": [
    "from pprint import pprint\n",
    "import pandas as pd\n",
    "from collections import Counter\n",
    "import regex\n",
    "\n",
    "class MarkovChain:\n",
    "    def __init__(self):\n",
    "         self.memory = {}\n",
    "\n",
    "    def _learn_key(self, *key, value):\n",
    "        if key not in self.memory:\n",
    "            self.memory[key] = []\n",
    "\n",
    "        self.memory[key].append(value)\n",
    "\n",
    "    \n",
    "    def train2(self, text):\n",
    "        \n",
    "        tokens = text.split(\" \")\n",
    "        bigrams = [(tokens[i], tokens[i + 1]) for i in range(0, len(tokens) - 1)]\n",
    "        bi_count = Counter(bigrams)\n",
    "        for bigram in bigrams:\n",
    "            self._learn_key(bigram[0], value = bigram[1])\n",
    "        return bi_count.most_common(30)\n",
    "    \n",
    "    def train3(self, text):\n",
    "        tokens = text.split(\" \")\n",
    "        trigrams = [(tokens[i], tokens[i + 1], tokens[i + 2]) for i in range(0, len(tokens) - 2)]\n",
    "        tri_count = Counter(trigrams)\n",
    "        # pprint(trigrams)\n",
    "        for trigram in trigrams:\n",
    "            self._learn_key(trigram[0], trigram[1], value = trigram[2])\n",
    "        return tri_count.most_common(30)\n",
    "    \n",
    "    def train4(self, text):\n",
    "        tokens = text.split(\" \")\n",
    "        quadgrams = [(tokens[i], tokens[i + 1], tokens[i + 2], tokens[i + 3]) for i in range(0, len(tokens) - 3)]\n",
    "        quad_count = Counter(quadgrams)\n",
    "        # pprint(quadgrams)\n",
    "        for quadgram in quadgrams:\n",
    "            self._learn_key(quadgram[0], quadgram[1], quadgram[2], value = quadgram[3])\n",
    "        return quad_count.most_common(30)\n",
    "    \n",
    "    def train5(self, text):\n",
    "        tokens = text.split(\" \")\n",
    "        fivegrams = [(tokens[i], tokens[i + 1], tokens[i + 2], tokens[i + 3], tokens[i + 4]) for i in range(0, len(tokens) - 4)]\n",
    "        five_count = Counter(fivegrams)\n",
    "        # pprint(fivegrams)\n",
    "        for fivegram in fivegrams:\n",
    "            self._learn_key(fivegram[0], fivegram[1], fivegram[2],fivegram[3], value = fivegram[4])\n",
    "        return five_count.most_common(30)\n",
    "    \n",
    "    def next(self, *current_state):\n",
    "        next_possible = self.memory.get(current_state)\n",
    "\n",
    "        if not next_possible:\n",
    "            next_possible = self.memory.keys()\n",
    "\n",
    "        cnt = Counter(next_possible) \n",
    "        \n",
    "        most_common = cnt.most_common(1)[0][0]\n",
    "        elements = list(cnt)\n",
    "        common_elements = cnt.most_common(10)\n",
    "        \n",
    "        return most_common, elements, common_elements"
   ]
  },
  {
   "cell_type": "code",
   "execution_count": 9,
   "metadata": {},
   "outputs": [],
   "source": [
    "def text_cleaner(text):\n",
    "    # lower case text\n",
    "    newString = text.lower()\n",
    "    # adding space in place of punctuation between two words e.g: \"...redaktə edilib.Bu\", so it can be split later.\n",
    "    newString = regex.sub((r\"(?<=\\w)(\\W)(?=\\w)\"), ' ', newString)\n",
    "    # remove punctuations\n",
    "    newString = regex.sub((r\"[^\\A\\p{L}+\\z ]\"), '', newString) # matches unicode characters \n",
    "    # remove short words x_X\n",
    "    long_words = []\n",
    "    for i in newString.split():\n",
    "        if len(i) >= 2:\n",
    "            long_words.append(i)\n",
    "    return (\" \".join(long_words)).strip()\n",
    " \n",
    "       "
   ]
  },
  {
   "cell_type": "code",
   "execution_count": 10,
   "metadata": {},
   "outputs": [],
   "source": [
    "data = pd.read_csv(\"corpus_wiki.csv\")\n",
    "text = data.to_string()\n",
    "\n",
    "# preprocess the text\n",
    "data_new = text_cleaner(text)"
   ]
  },
  {
   "cell_type": "markdown",
   "metadata": {},
   "source": [
    "## Training Bigrams"
   ]
  },
  {
   "cell_type": "code",
   "execution_count": 11,
   "metadata": {},
   "outputs": [
    {
     "data": {
      "text/plain": [
       "[(('cinsinə', 'aid'), 11150),\n",
       " (('aid', 'bitki'), 10370),\n",
       " (('bitki', 'növü'), 9984),\n",
       " (('fəsiləsinin', 'cinsinə'), 9944),\n",
       " (('növü', 'mənbə'), 7755),\n",
       " (('ölkələrinə', 'görə'), 7135),\n",
       " (('istinadlar', 'kateqoriya'), 6830),\n",
       " (('kateqoriya', 'ölkələrinə'), 5839),\n",
       " (('xarici', 'keçidlər'), 5719),\n",
       " (('mənbə', 'fəsiləsinin'), 5041),\n",
       " (('ci', 'ildə'), 3764),\n",
       " (('həmçinin', 'bax'), 3737),\n",
       " (('cı', 'il'), 3344),\n",
       " (('daxil', 'olan'), 2759),\n",
       " (('azərbaycan', 'ostanının'), 2610),\n",
       " (('əhalisi', 'cı'), 2593),\n",
       " (('kənd', 'əhalisi'), 2416),\n",
       " (('olan', 'kənd'), 2410),\n",
       " (('ərazisinə', 'daxil'), 2408),\n",
       " (('şəhristanı', 'ərazisinə'), 2395),\n",
       " (('kateqoriya', 'azərbaycan'), 2382),\n",
       " (('azərbaycan', 'respublikasının'), 2373),\n",
       " (('qərbi', 'azərbaycan'), 2352),\n",
       " (('məlumatına', 'görə'), 2336),\n",
       " (('görə', 'kənddə'), 2331),\n",
       " (('illərinə', 'görə'), 2314),\n",
       " (('il', 'məlumatına'), 2310),\n",
       " (('iranın', 'qərbi'), 2281),\n",
       " (('yaşayır', 'ailə'), 2269),\n",
       " (('nəfərkəndin', 'əhalisi'), 2261)]"
      ]
     },
     "execution_count": 11,
     "metadata": {},
     "output_type": "execute_result"
    }
   ],
   "source": [
    "m2 = MarkovChain()\n",
    "m2.train2(data_new)"
   ]
  },
  {
   "cell_type": "markdown",
   "metadata": {},
   "source": [
    "## Training Trigrams"
   ]
  },
  {
   "cell_type": "code",
   "execution_count": 12,
   "metadata": {},
   "outputs": [
    {
     "data": {
      "text/plain": [
       "[(('aid', 'bitki', 'növü'), 9963),\n",
       " (('fəsiləsinin', 'cinsinə', 'aid'), 9944),\n",
       " (('cinsinə', 'aid', 'bitki'), 9936),\n",
       " (('bitki', 'növü', 'mənbə'), 6907),\n",
       " (('kateqoriya', 'ölkələrinə', 'görə'), 5775),\n",
       " (('mənbə', 'fəsiləsinin', 'cinsinə'), 5041),\n",
       " (('növü', 'mənbə', 'fəsiləsinin'), 4897),\n",
       " (('ərazisinə', 'daxil', 'olan'), 2406),\n",
       " (('daxil', 'olan', 'kənd'), 2402),\n",
       " (('şəhristanı', 'ərazisinə', 'daxil'), 2395),\n",
       " (('olan', 'kənd', 'əhalisi'), 2344),\n",
       " (('qərbi', 'azərbaycan', 'ostanının'), 2326),\n",
       " (('əhalisi', 'cı', 'il'), 2313),\n",
       " (('il', 'məlumatına', 'görə'), 2309),\n",
       " (('kənd', 'əhalisi', 'cı'), 2306),\n",
       " (('cı', 'il', 'məlumatına'), 2297),\n",
       " (('məlumatına', 'görə', 'kənddə'), 2295),\n",
       " (('iranın', 'qərbi', 'azərbaycan'), 2281),\n",
       " (('nəfərkəndin', 'əhalisi', 'yaşayır'), 2256),\n",
       " (('əhalisi', 'yaşayır', 'ailə'), 2254),\n",
       " (('görə', 'kənddə', 'nəfərkəndin'), 2245),\n",
       " (('kənddə', 'nəfərkəndin', 'əhalisi'), 2245),\n",
       " (('yaşayır', 'ailə', 'istinadlar'), 2196),\n",
       " (('ailə', 'istinadlar', 'kateqoriya'), 2195),\n",
       " (('mənbə', 'xarici', 'keçidlər'), 2131),\n",
       " (('istinadlar', 'xarici', 'keçidlər'), 1988),\n",
       " (('növü', 'mənbə', 'xarici'), 1919),\n",
       " (('bitki', 'növü', 'istinadlar'), 1884),\n",
       " (('siyahısı', 'səhləbkimilərə', 'aid'), 1832),\n",
       " (('xarici', 'keçidlər', 'bulbofilium'), 1831)]"
      ]
     },
     "execution_count": 12,
     "metadata": {},
     "output_type": "execute_result"
    }
   ],
   "source": [
    "m3 = MarkovChain()\n",
    "m3.train3(data_new)"
   ]
  },
  {
   "cell_type": "markdown",
   "metadata": {},
   "source": [
    "## Training Quadgrams"
   ]
  },
  {
   "cell_type": "code",
   "execution_count": 13,
   "metadata": {},
   "outputs": [
    {
     "data": {
      "text/plain": [
       "[(('cinsinə', 'aid', 'bitki', 'növü'), 9935),\n",
       " (('fəsiləsinin', 'cinsinə', 'aid', 'bitki'), 9854),\n",
       " (('aid', 'bitki', 'növü', 'mənbə'), 6906),\n",
       " (('mənbə', 'fəsiləsinin', 'cinsinə', 'aid'), 5041),\n",
       " (('növü', 'mənbə', 'fəsiləsinin', 'cinsinə'), 4897),\n",
       " (('bitki', 'növü', 'mənbə', 'fəsiləsinin'), 4841),\n",
       " (('ərazisinə', 'daxil', 'olan', 'kənd'), 2396),\n",
       " (('şəhristanı', 'ərazisinə', 'daxil', 'olan'), 2395),\n",
       " (('daxil', 'olan', 'kənd', 'əhalisi'), 2344),\n",
       " (('olan', 'kənd', 'əhalisi', 'cı'), 2305),\n",
       " (('kənd', 'əhalisi', 'cı', 'il'), 2304),\n",
       " (('cı', 'il', 'məlumatına', 'görə'), 2297),\n",
       " (('əhalisi', 'cı', 'il', 'məlumatına'), 2296),\n",
       " (('il', 'məlumatına', 'görə', 'kənddə'), 2294),\n",
       " (('iranın', 'qərbi', 'azərbaycan', 'ostanının'), 2277),\n",
       " (('nəfərkəndin', 'əhalisi', 'yaşayır', 'ailə'), 2254),\n",
       " (('görə', 'kənddə', 'nəfərkəndin', 'əhalisi'), 2245),\n",
       " (('kənddə', 'nəfərkəndin', 'əhalisi', 'yaşayır'), 2240),\n",
       " (('məlumatına', 'görə', 'kənddə', 'nəfərkəndin'), 2227),\n",
       " (('əhalisi', 'yaşayır', 'ailə', 'istinadlar'), 2196),\n",
       " (('yaşayır', 'ailə', 'istinadlar', 'kateqoriya'), 2190),\n",
       " (('növü', 'mənbə', 'xarici', 'keçidlər'), 1919),\n",
       " (('aid', 'bitki', 'növü', 'istinadlar'), 1880),\n",
       " (('bitki', 'növü', 'mənbə', 'xarici'), 1860),\n",
       " (('xarici', 'keçidlər', 'bulbofilium', 'yoxlama'), 1831),\n",
       " (('keçidlər', 'bulbofilium', 'yoxlama', 'siyahısı'), 1831),\n",
       " (('bulbofilium', 'yoxlama', 'siyahısı', 'səhləbkimilərə'), 1831),\n",
       " (('yoxlama', 'siyahısı', 'səhləbkimilərə', 'aid'), 1831),\n",
       " (('siyahısı', 'səhləbkimilərə', 'aid', 'növlərin'), 1831),\n",
       " (('səhləbkimilərə', 'aid', 'növlərin', 'internet'), 1831)]"
      ]
     },
     "execution_count": 13,
     "metadata": {},
     "output_type": "execute_result"
    }
   ],
   "source": [
    "m4 = MarkovChain()\n",
    "m4.train4(data_new)"
   ]
  },
  {
   "cell_type": "markdown",
   "metadata": {},
   "source": [
    "## Training Fivegrams"
   ]
  },
  {
   "cell_type": "code",
   "execution_count": 14,
   "metadata": {},
   "outputs": [
    {
     "data": {
      "text/plain": [
       "[(('fəsiləsinin', 'cinsinə', 'aid', 'bitki', 'növü'), 9853),\n",
       " (('cinsinə', 'aid', 'bitki', 'növü', 'mənbə'), 6906),\n",
       " (('mənbə', 'fəsiləsinin', 'cinsinə', 'aid', 'bitki'), 4986),\n",
       " (('növü', 'mənbə', 'fəsiləsinin', 'cinsinə', 'aid'), 4897),\n",
       " (('bitki', 'növü', 'mənbə', 'fəsiləsinin', 'cinsinə'), 4841),\n",
       " (('aid', 'bitki', 'növü', 'mənbə', 'fəsiləsinin'), 4840),\n",
       " (('şəhristanı', 'ərazisinə', 'daxil', 'olan', 'kənd'), 2393),\n",
       " (('ərazisinə', 'daxil', 'olan', 'kənd', 'əhalisi'), 2344),\n",
       " (('daxil', 'olan', 'kənd', 'əhalisi', 'cı'), 2305),\n",
       " (('olan', 'kənd', 'əhalisi', 'cı', 'il'), 2303),\n",
       " (('əhalisi', 'cı', 'il', 'məlumatına', 'görə'), 2296),\n",
       " (('cı', 'il', 'məlumatına', 'görə', 'kənddə'), 2294),\n",
       " (('kənd', 'əhalisi', 'cı', 'il', 'məlumatına'), 2287),\n",
       " (('görə', 'kənddə', 'nəfərkəndin', 'əhalisi', 'yaşayır'), 2240),\n",
       " (('kənddə', 'nəfərkəndin', 'əhalisi', 'yaşayır', 'ailə'), 2238),\n",
       " (('il', 'məlumatına', 'görə', 'kənddə', 'nəfərkəndin'), 2227),\n",
       " (('məlumatına', 'görə', 'kənddə', 'nəfərkəndin', 'əhalisi'), 2227),\n",
       " (('nəfərkəndin', 'əhalisi', 'yaşayır', 'ailə', 'istinadlar'), 2196),\n",
       " (('əhalisi', 'yaşayır', 'ailə', 'istinadlar', 'kateqoriya'), 2190),\n",
       " (('cinsinə', 'aid', 'bitki', 'növü', 'istinadlar'), 1880),\n",
       " (('aid', 'bitki', 'növü', 'mənbə', 'xarici'), 1860),\n",
       " (('bitki', 'növü', 'mənbə', 'xarici', 'keçidlər'), 1860),\n",
       " (('xarici', 'keçidlər', 'bulbofilium', 'yoxlama', 'siyahısı'), 1831),\n",
       " (('keçidlər', 'bulbofilium', 'yoxlama', 'siyahısı', 'səhləbkimilərə'), 1831),\n",
       " (('bulbofilium', 'yoxlama', 'siyahısı', 'səhləbkimilərə', 'aid'), 1831),\n",
       " (('yoxlama', 'siyahısı', 'səhləbkimilərə', 'aid', 'növlərin'), 1831),\n",
       " (('siyahısı', 'səhləbkimilərə', 'aid', 'növlərin', 'internet'), 1831),\n",
       " (('səhləbkimilərə', 'aid', 'növlərin', 'internet', 'foto'), 1831),\n",
       " (('aid', 'növlərin', 'internet', 'foto', 'ensiklopediyası'), 1825),\n",
       " (('növlərin', 'internet', 'foto', 'ensiklopediyası', 'fəsiləsinin'), 1813)]"
      ]
     },
     "execution_count": 14,
     "metadata": {},
     "output_type": "execute_result"
    }
   ],
   "source": [
    "m5 = MarkovChain()\n",
    "m5.train5(data_new)"
   ]
  },
  {
   "cell_type": "markdown",
   "metadata": {},
   "source": [
    "## Implementing MLE"
   ]
  },
  {
   "cell_type": "code",
   "execution_count": 15,
   "metadata": {},
   "outputs": [],
   "source": [
    "from nltk.util import everygrams\n",
    "from nltk.lm import MLE\n",
    "from nltk.lm.preprocessing import padded_everygram_pipeline\n",
    "from nltk import word_tokenize, sent_tokenize"
   ]
  },
  {
   "cell_type": "code",
   "execution_count": 16,
   "metadata": {},
   "outputs": [],
   "source": [
    "train, vocab = padded_everygram_pipeline(5, data_new)\n",
    "sent_tokenize = lambda x: regex.split(r'(?<=[^A-Z].[.?]) +(?=[A-Z])', x)\n",
    "\n",
    "tokenized_text = [list(map(str.lower, word_tokenize(sent))) \n",
    "                  for sent in sent_tokenize(data_new)]"
   ]
  },
  {
   "cell_type": "code",
   "execution_count": 17,
   "metadata": {},
   "outputs": [],
   "source": [
    "train_data, padded_sents = padded_everygram_pipeline(5, tokenized_text)\n",
    "mle = MLE(5)"
   ]
  },
  {
   "cell_type": "code",
   "execution_count": 18,
   "metadata": {},
   "outputs": [],
   "source": [
    "mle.fit(train_data, padded_sents)"
   ]
  },
  {
   "cell_type": "markdown",
   "metadata": {},
   "source": [
    "## Saving Models "
   ]
  },
  {
   "cell_type": "code",
   "execution_count": null,
   "metadata": {},
   "outputs": [],
   "source": [
    "import joblib"
   ]
  },
  {
   "cell_type": "code",
   "execution_count": null,
   "metadata": {},
   "outputs": [],
   "source": [
    "joblib.dump(m2, 'bigrams.pickle')\n",
    "joblib.dump(m3, 'trigrams.pickle')\n",
    "joblib.dump(m4, 'quadgrams.pickle')\n",
    "joblib.dump(m5, 'fivegrams.pickle')\n",
    "joblib.dump(mle, 'mle.pickle')"
   ]
  },
  {
   "cell_type": "markdown",
   "metadata": {},
   "source": [
    "## Loading Models"
   ]
  },
  {
   "cell_type": "code",
   "execution_count": 27,
   "metadata": {},
   "outputs": [],
   "source": [
    "m2 = joblib.load('bigrams.pickle')\n",
    "m3 = joblib.load('trigrams.pickle')\n",
    "m4 = joblib.load('quadgrams.pickle')\n",
    "m5 = joblib.load('fivegrams.pickle')\n",
    "mle = joblib.load('mle.pickle')"
   ]
  },
  {
   "cell_type": "markdown",
   "metadata": {},
   "source": [
    "## Testing "
   ]
  },
  {
   "cell_type": "markdown",
   "metadata": {},
   "source": [
    "### Testing Bigrams"
   ]
  },
  {
   "cell_type": "code",
   "execution_count": 19,
   "metadata": {},
   "outputs": [
    {
     "name": "stdout",
     "output_type": "stream",
     "text": [
      "azərbaycan\n",
      "Next word: ostanının \n",
      "Probability: 0.20409759149202378\n",
      "\n",
      "List of unique words coming after azərbaycan :\n",
      " ['üçün', 'naminə', 'siyasi', 'respublikası', 'ssr', 'bəstəkarı', 'aktyoru', 'yazıçısı', 'pianoçusu', 'respublikasında', 'müğənniləriasta', 'müğənnisi', 'respublikasının', 'futbolçusu', 'torpaqlarının', 'filosofu', 'mütəfəkkiri', 'şairi', 'alimi', 'atabəyləri', 'musiqişünası', 'elxanilər', 'tarixçisi', 'türklərindən', 'dilində', 'xalq', 'müəllimlərinin', 'bayramları', 'və', 'vətəndaşları', 'xanəndəsi', 'ostanından', 'başqırd', 'milli', 'vikipediyası', 'vikipediyasının', 'filmi', 'filmlərinin', 'demokratik', 'əlifbası', 'əlifbasında', 'sektorunda', 'ostanı', 'torpaqları', 'ostanında', 'ostanının', 'şəhərləri', 'dilinin', 'çempionatıdır', 'ostanındakı', 'ədəbiyyatı', 'həmkarlar', 'universitetlərikateqoriya', 'filmləri', 'televiziyasında', 'zw', 'soyadlarıpoladlı', 'silahlı', 'orta', 'ifaçısı', 'müğənniləri', 'versiyası', 'ərazisində', 'yazıçıları', 'sai', 'türkləri', 'kinosunda', 'çaylarıkateqoriya', 'xmk', 'filmləriməzmun', 'kino', 'icra', 'torpaqlarıcoğrafiyası', 'kinosu', 'bolşeviklərinin', 'hərbi', 'filmləriadi', 'filmləriadsız', 'filmləriağ', 'filmləriaxırıncı', 'filmləriakt', 'filmləriamerika', 'filmlərianalar', 'filmləriarzu', 'filmləriastarı', 'filmləriat', 'filmləriatamın', 'filmləriata', 'filmləriatasının', 'filmləriay', 'filmləriazərbaycan', 'filmləribəstəkar', 'folkloru', 'maarif', 'kinorejissoru', 'radio', 'televiziyasıməzmun', 'idmançıları', 'xalqının', 'bioqrafik', 'sənədli', 'iran', 'elmlər', 'nazirləri', 'dövlət', 'əlcəzair', 'günlərinə', 'fransa', 'gənclərinin', 'lkgi', 'kənd', 'həkimi', 'futboluna', 'inşaatçılarına', 'xəzər', 'münaqişəsi', 'incəsənət', 'klipinin', 'ea', 'cizgi', 'incəsənəti', 'ornamentlərinin', 'geoloqlarının', 'yanğından', 'neft', 'tarzəni', 'şəhərinin', 'daxili', 'televiziyasının', 'inşaatçılarının', 'memarlıq', 'ukrayna', 'haqqında', 'filmlərikateqoriya', 'dəmir', 'kommunist', 'müğənniləriukrayn', 'vətəndaşlarının', 'musiqiçiləri', 'telekommunikasiya', 'şirkətləriredirect', 'qəzetləri', 'aviaşirkətləri', 'dilikatalan', 'xəritəsi', 'xəritəsinin', 'nazirlər', 'televiziya', 'xalçaları', 'opera', 'şairləri', 'jurnalistləri', 'filmlərimənbə', 'futbolçuları', 'ədəbiyyatının', 'kateqoriya', 'ədəbiyyatıtəmiz', 'partiyası', 'demokrat', 'kəndli', 'dünyası', 'liberal', 'mübarizləri', 'tərəqqi', 'təkəmül', 'islam', 'aşıq', 'torpaqlarıkateqoriya', 'televiziyası', 'jurnalistlər', 'mətbuat', 'qadın', 'informasiya', 'dram', 'dağınıq', 'qəzetlərialma', 'müğənnilərisiyasətçilər', 'yazıçılar', 'jurnalları', 'ictimai', 'partiyasıexo', 'teleseriallarışarlotta', 'republikasının', 'rəngli', 'tarixi', 'ali', 'şirkəti', 'şirkətləri', 'ədəbiyyatları', 'filmləridərəcə', 'hökmdarlarıkateqoriya', 'cüdo', 'aktyorları', 'qardaşliğının', 'qəbiristanlıqlarıvəfat', 'verilişləri', 'ermənistan', 'mətbəxinin', 'mətbəxi', 'müsabiqədə', 'qalaları', 'aktrisaları', 'memarlığının', 'quşları', 'mədəniyyəti', 'soyadları', 'məməliləriredirectazərbaycan', 'məməliləricırtdan', 'sovet', 'kilsələri', 'telekanalında', 'qəbiristanlıqlarıqala', 'urmiya', 'abidələri', 'bankı', 'bankları', 'əyalətinin', 'türkcəsində', 'futbol', 'çimərlik', 'premyer', 'divizionu', 'respublikasınınşəmkir', 'klassiki', 'paytaxtlarıkateqoriya', 'yığma', 'sənət', 'avropa', 'yaponiya', 'almaniya', 'ticarət', 'saytı', 'rəssamlar', 'karikaturaçı', 'rəssamları', 'ci', 'avroviziya', 'dövləti', 'dövlətinin', 'gürcüstan', 'hüquqşünası', 'mülki', 'musiqisi', 'qədim', 'qızılca', 'coğrafiyasıvəfat', 'nağıllarının', 'filosofları', 'şairlərikateqoriya', 'xalqına', 'həftəsi', 'vikipediyasından', 'kuboku', 'millisinin', 'çempionatının', 'klubları', 'soylarıuefa', 'xəitəsi', 'çaylarıviləş', 'birinci', 'həvəskarlar', 'çempionatı', 'kubokunun', 'ağstafa', 'çempionatında', 'ssrstandard', 'cümhuriyyətinin', 'soyadlarınəmirli', 'rəqsləriiki', 'rəqsi', 'dili', 'dilindəgözəl', 'soyadı', 'cümə', 'aek', 'diplomatlarıkateqoriya', 'arxeologiyasıbəstəkarlar', 'toponimlərinin', 'respublikasinin', 'şirkətləritoponimlər', 'rusiya', 'kubokukateqoriya', 'ordeninin', 'ordenicoğrafiya', 'partiyasının', 'basketbol', 'siyahılarıgilan', 'alimləri', 'olimpiya', 'mətbəxihadisələr', 'əhalisinin', 'şahmat', 'dənizçilik', 'bodibildinq', 'seçmə', 'musiqi', 'rəqslərişükürbəyli', 'komandalarının', 'şair', 'tarixitəyinatı', 'qəzetlərimənbə', 'zabiti', 'qış', 'yay', 'xxviii', 'ərazisindəki', 'arxeologiyası', 'memarlığı', 'türkcəsinə', 'yanvar', 'çexiya', 'portuqaliya', 'fevral', 'serbiya', 'belçika', 'danimarka', 'sentyabr', 'slovakiya', 'dekabr', 'isveç', 'xorvatiya', 'macarıstan', 'bozax', 'qarabağ', 'lisenziya', 'kuba', 'qırğızıstan', 'litva', 'mədəniyyət', 'özbəkistan', 'tacikistan', 'xalça', 'səfirliyi', 'respublikasındakı', 'italiya', 'xalçalarıdrakula', 'müğənnilərikateqoriya', 'tarix', 'şahmatçısı', 'kinofilmi', 'şərabı', 'netty', 'latın', 'tayfalanndan', 'metropolitenikateqoriya', 'türkiyə', 'dilindədi', 'rəngkarlığı', 'florası', 'təbiətisankt', 'respublikasi', 'respublikasıınn', 'respublikasıın', 'rəssamı', 'dilindəki', 'ın', 'idman', 'farer', 'bakı', 'albena', 'çimkənd', 'dubay', 'uels', 'kardif', 'azərbaycan', 'açso', 'klublar', 'əmman', 'yo', 'rejissoru', 'ədək', 'kəndi', 'kəndinin', 'dünyəvibozqurd', 'şotlandiyaistiqamətləndirmə', 'qırmızı', 'atət', 'aktyorlarıəl', 'arasında', 'dağları', 'sıradağları', 'filmləripredore', 'qoruqları', 'diplomatları', 'məməliləriolimpiya', 'şəhər', 'qəsəbə', 'memarlığıkateqoriya', 'siyasətçisi', 'rəqsləribaş', 'respublikasın', 'kitab', 'hərb', 'respubilkası', 'musiqisində', 'soyadlarısabirkənd', 'fiziklərixibin', 'qəzeti', 'musiqiçiləriredirect', 'dilinə', 'futbolunun', 'həkimləribaş', 'yeniyetmələrin', 'idmanının', 'güləşçiləri', 'soyadlarıqurdlar', 'ordusu', 'ostanıqaraçala', 'hərbçiləri', 'politexnik', 'şəhidi', 'kinematoqrafı', 'su', 'əsilli', 'medalının', 'medalıkateqoriya', 'mükafatları', 'sultanlıqlarıqaraçanlı', 'rejissorlarının', 'qəzetləritürküstan', 'qəzetlərikənd', 'qəzetlərikredo', 'qəzetlərirəsmi', 'qəzetlərixural', 'qəzetlərimillətin', 'qəzetləriqərbi', 'qəzetlərirespublika', 'qəzetlərikateqoriya', 'hökmdarları', 'dillər', 'qəzetləriredirect', 'qəzetlərinedelya', 'qəzetlərimarket', 'qəzetlərisuper', 'qəzetlərivəfat', 'qəzetlərinorv', 'kəndləriqumluq', 'şairlərinin', 'folklorşünası', 'operatoru', 'məscidləri', 'da', 'məməliləri', 'rok', 'dillərində', 'ssrtürk', 'baham', 'hərbiyyə', 'müdafiə', 'bayrağı', 'müəllimlər', 'vikipediyasında', 'ədəbiyyat', 'tədqiqatları', 'kp', 'zavodlarışirvan', 'zavodları', 'zavodlarıalov', 'amerikada', 'filmləriqınıq', 'araşdırmaları', 'isbn', 'ismn', 'respiblikası', 'istehsalı', 'kulinariyasında', 'münasibətlərialt', 'rumıniya', 'polşa', 'münasibətləri', 'hindistan', 'çin', 'latviya', 'cənubi', 'israil', 'alimlərikamil', 'təsviri', 'texniki', 'sloveniya', 'türkçəsi', 'fotoqraflar', 'həkimləriget', 'azərbaycanda', 'marşrutuna', 'antropoloqları', 'sosial', 'türbələri', 'kəndlərialimlər', 'belarus', 'zabitlərikateqoriya', 'soyları', 'şairimənbə', 'tarixişəhərlər', 'kredit', 'fəsiləsinin', 'kişi', 'aşıqları', 'mik', 'məktəbləridünya', 'qəbiristanlıqları', 'xeyriyyəçisi', 'şairlərdn', 'polisinin', 'sərhəd', 'mükafatlarıkateqoriya', 'ordusunun', 'nümayəndəsi', 'mühəndisləri', 'soylarıvahid', 'qəzet', 'dilibask', 'çempionu', 'diliaçomi', 'dilimaraği', 'nailiyyətləri', 'diliyeni', 'sənaye', 'internet', 'cu', 'diliqalisiya', 'qəzetlərikiş', 'soylarıbart', 'vahid', 'bmt', 'şifahi', 'diasporu', 'qəzetlərivolkov', 'bolqarıstan', 'bosniya', 'bəhreyn', 'bəə', 'kipr', 'estoniya', 'finlandiya', 'honduras', 'küveyt', 'lixtenşteyn', 'lüksemburq', 'şimali', 'malta', 'moldova', 'nigeriya', 'norveç', 'oman', 'qana', 'qazaxıstan', 'səudiyyə', 'trinidad', 'türkmənistan', 'uruqvay', 'yunanıstan', 'ingiltərə', 'iordaniya', 'iraq', 'islandiya', 'ispaniya', 'isveçrə', 'rəqslərikino', 'parlamentinin', 'filmləriqarayevlər', 'soylarıaxundovlar', 'soylarımarkiz', 'soylarıstoya', 'mövzulu', 'polkovnikləriməhəmməd', 'sultanlıqları', 'plovunun', 'fondlarıhelle', 'kəndləri', 'kəndlərikateqoriya', 'yeni', 'poçt', 'soylarıkanadada', 'tədqiqat', 'həkimləri', 'həkimlərinin', 'soylarıafi', 'xarici', 'rayonlarından', 'folklorundaki', 'qəsəbələrigülüstan', 'prezidentinin', 'təmsilçisi', 'yığmasında', 'skeletonçuları', 'çempionuna', 'nəşriyyatları', 'broket', 'stadionları', 'şəhərlərinin', 'faunası', 'təbiəti', 'rayonları', 'endoskopik', 'muzeyləriteatrlar', 'tərəfi', 'dəmiryolları', 'baş', 'polyaklarından', 'qürvəsi', 'romanları', 'funikulyorlarıbəhram', 'aşıqlarıçaylar', 'universitetləri', 'polyakları', 'filmləribess', 'təhlükəsizlik', 'gəncə', 'ssrazərbaycan', 'ikinci', 'xalçaçılıq', 'toxuculuq', 'xalçalarının', 'muğam', 'universitetlərinin', 'aşığı', 'kinematoqrafçılarının', 'ümumi', 'muzeyləri', 'mahmudabad', 'iranın', 'filmləriistiqamətləndirmə', 'stadionlarıkateqoriya', 'london', 'gəncini', 'qülləsinin', 'zəlzələləri', 'yasında', 'kürdləri', 'pedaqoqu', 'pedaqoqlarıdəqiqləşdirmə', 'münasibətləriəkbər', 'cədvəl', 'yığması', 'aran', 'jurnalisti', 'bulaqları', 'iqtisadiyyatıniderland', 'çaylarıağsu', 'tələbə', 'inqilabçıları', 'millisin', 'partiyasıkateqoriya', 'kanada', 'ilk', 'futbolçularının', 'bəstəkarlarının', 'qəzetlərikastiliya', 'siyahılarısəlim', 'əncüməninin', 'meksika', 'şşairi', 'dəmiryolu', 'seçki', 'kinematoqrafıniderland', 'əraziləriinzibati', 'medalları', 'rokubəstəkarlar', 'teleseriallarıonly', 'rokçuları', 'repçiləriinzibati', 'tv', 'tarixiistinadlar', 'rəssamlarımasulə', 'kütləvi', 'baletinin', 'rəqslərikateqoriya', 'uşaq', 'miniatürü', 'süitası', 'bəstəkarları', 'şairəsi', 'top', 'tarixitoxum', 'rəqslərisübh', 'mayakları', 'general', 'çaylarıeduard', 'mükafatlarıgənclər', 'çempionatındakı', 'ssrköhnə', 'bayraq', 'türk', 'kanalında', 'kanalinda', 'kolumbiya', 'küçələrixülasə', 'animasiya', 'hərakatının', 'siyasətçiləri', 'qəzetlərigöllər', 'jurnallarısivil', 'jurnallarıhəyatı', 'indoneziya', 'car', 'radiosunda', 'gəncləri', 'çayları', 'pakistan', 'alpinizm', 'kəndlərigöllər', 'sasanilər', 'ssrkateqoriya', 'kommunistləri', 'tarixiküng', 'yurdum', 'gənci', 'sözünün', 'media', 'klublarıında', 'manatı', 'iqtisadiyyatı', 'niderland', 'yamayka', 'venesuela', 'rayonlarıkəndləri', 'muzeylərinin', 'ailələrini', 'teatrı', 'rejissorlarıkateqoriya', 'üzrə', 'vikisində', 'meliorasiya', 'məqaləsinə', 'voleybol', 'müstəqilliyini', 'simli', 'superliqasında', 'zərb', 'kəlağayı', 'ssrnəqliyyatçı', 'coğrafiyası', 'mahnıları', 'azərbaycankateqoriya', 'mükafatlarıçao', 'rəqsləriceyhuni', 'rəqslərigəlin', 'rəqslərigülgəz', 'rəqslərigülməyi', 'rəqslərikəndiri', 'rəqslərikoroğlu', 'rəqslərikoroğlunun', 'rəqsləriqəşəngi', 'rəqsləriqızılgül', 'rəqsləriqofta', 'rəqslərilalə', 'rəqslərimücəssəmə', 'rəqslərimisri', 'rəqslərimirvari', 'rəqslərimehmani', 'rəqslərinazilə', 'rəqslərinovruzu', 'rəqsləriodlar', 'rəqsləriyanıq', 'rəqslərivelaçola', 'rəqslərituralı', 'rəqslərişəki', 'rəqslərisüleymani', 'rəqslərirüfəti', 'rəqsləriorta', 'rəssamlarımuzeylər', 'folklorunda', 'hökmdarlarışəkil', 'hava', 'iqtisadiyyatıyaranma', 'pedaqoji', 'qadınları', 'partiyasinin', 'otelləri', 'doha', 'həqiqətlərinin', 'atabəylər', 'akademikləri', 'komandasıdır', 'dağlarıağdağ', 'dağlarıkateqoriya', 'teatr', 'musiqiçilərinaqasaki', 'klarnet', 'musiqiçilərihandley', 'şirkətlərikateqoriya', 'torpaqlarında', 'rokukateqoriya', 'şotlandiya', 'radiosu', 'radioları', 'qızlar', 'tarixitarixi', 'tarixikəndlər', 'efiopiya', 'tarixivəfat', 'qoruqlarıminas', 'tikililəri', 'tikililəriarchitectural', 'rəqsləri', 'memarlar', 'memarı', 'məhdud', 'hərbçiləriədəbiyyat', 'sos', 'alpaqut', 'küçələrierməni', 'pyeslərikateqoriya', 'dilli', 'אזערביידזשאן', 'rəvayətləriistiqamətləndirmə', 'əliyev', 'döyüşçüləri', 'tariximonarxiyaqafqaz', 'hakimlərin', 'topaz', 'dilçisi', 'teatrşünası', 'turizm', 'adalarıjan', 'xəbər', 'saytları', 'gənclər', 'təhsil', 'festivallarıkateqoriya', 'vikimediaçıları', 'şirkətlərimətanət', 'həkimləriistiqamətləndirmə', 'cildlik', 'ensiklopediyaları', 'kitablarıhəmkarlar', 'prezident', 'hökumət', 'monarxlarının', 'nəqliyyat', 'intellektual', 'universiteti', 'universitetləriazərbaycan', 'sülalələri', 'tarixinə', 'bəylərbəyiləri', 'xanlıqları', 'xanları', 'tariximəscidlər', 'gənc', 'salatı', 'tikiş', 'fabriklərilisenziya', 'mətbəxidundas', 'şəkər', 'sənayesi', 'zavodlarırixard', 'soyadlarıistifadəsi', 'əfqanıstan', 'azərbaycanın', 'bayrağını', 'tailand', 'tarixikateqoriya', 'taekvondoçuları', 'irlandiya', 'peru', 'qvatemala', 'vyetnam', 'monteneqro', 'millisində', 'seyşel', 'atletləri', 'qətər', 'filippin', 'idmançısı', 'çili', 'sudan', 'braziliya', 'münasibətlərixarici', 'fələstin', 'zimbabve', 'ekvador', 'banqladeş', 'zambiya', 'misir', 'böyük', 'eritreya', 'cibuti', 'qvineya', 'mavritaniya', 'taekvondoçusu', 'nəşriyyatı', 'τçin', 'diasporunun', 'muğamı', 'boksçusu', 'məhəbbət', 'həkimlərizamanın', 'mərakeş', 'tunis', 'seneqal', 'mali', 'qambiya', 'ədliyyəsinin', 'şamaxi', 'əraziləriistiqamətləndirmə', 'teleserialı', 'teleseriallarıterminlər', 'maliyyə', 'sənayesikateqoriya', 'cəmiyyəti', 'benin', 'şri', 'malayziya', 'sent', 'voleybolçusu', 'idmançı', 'nepal', 'maldiv', 'sinqapur', 'şərqi', 'esvatini', 'mozambik', 'bruney', 'myanma', 'nikaraqua', 'boliviya', 'monqolustan', 'yasaqlıqları', 'hərbçisi', 'polisi', 'ordeni', 'paleontoloqları', 'texnikası', 'mövqelərini', 'tədris', 'şairlərindən', 'millisi', 'futbolçularıhiddencat', 'super', 'şimal', 'burunları', 'texnologiya', 'konkisürəndir', 'aleksey', 'vətəndaşlığını', 'yuliya', 'elmi', 'regional', 'səsləndirmə', 'holdingləri', 'atasığorta', 'holdinglərikateqoriya', 'infiniti', 'ford', 'renault', 'rəvan', 'qarapapaq', 'mükafatlarınewsectionlink', 'diktoru', 'poemaları', 'ədəbiyyatıistiqamətləndirmə', 'universitet', 'holdingləriisveç', 'yüngül', 'nümayəndə', 'adaları', 'şirkətləriredirectxanım', 'adalarıkateqoriya', 'tarixiidarəetmə', 'ədəbi', 'mövsümükateqoriya', 'animasiyasırəsm', 'mixaylovka', 'mədəni', 'dilləri', 'muzeylərikateqoriya', 'şəhərlərinə', 'boksçuları', 'dağlarıçaylar', 'kəndləriqrad', 'iqtisadiyyatıhava', 'samboçuları', 'oxucusuna', 'triatlonçuları', 'hərbçiləriqədili', 'soylarıqılburun', 'özəl', 'hərbçilərikateqoriya', 'müğənniləriorxan', 'pyesləriistiqamətləndirmə', 'aviasiyası', 'tikililərikateqoriya', 'pekində', 'medal', 'müxtəlif', 'yolları', 'yollarıpostsovet', 'futbolçusudur', 'aşırımlarıiqtisadçılar', 'şəhəri', 'kubokuanime', 'manatıen', 'siyahıları', 'surinam', 'qayana', 'diliiriri', 'musiqiçilərifilosoflar', 'tikinti', 'tarixində', 'şotaro', 'balet', 'kinematoqrafıbasketbol', 'azərbaycankomendant', 'pulları', 'valyutası', 'sikkələri', 'idmançılarıkateqoriya', 'azərbaycanmüəmma', 'redaktorları', 'kinooperatoru', 'rusiyabakı', 'aprelheydər', 'iyunheydər', 'idmançılarıistiqamətləndirmə', 'idmançılarıolimpiya', 'komandası', 'boksçu', 'qızıl', 'sarayları', 'ədəbiyyatıslint', 'portalı', 'hip', 'mühəndisi', 'modelyeri', 'modelyerləribu', 'aktrisası', 'ərəb', 'yığmasının', 'tarixiyeraltı', 'yəhudiləriova', 'rejissorları', 'tarixiusage', 'azərbaycanləğv', 'san', 'erməniləri', 'ayıqədər', 'türkcəsidir', 'mirabad', 'mədəniyyətidin', 'hərbçilərixanqulu', 'həmçinin', 'korlar', 'təşkilatlarısancaq', 'beynəlxalq', 'ordenlərielmabad', 'aviabazaları', 'ixtiraları', 'hərbçilərixix', 'vatikan', 'madaqaskar', 'liqa', 'mavriki', 'kabo', 'əlaqələri', 'bayraqlarının', 'aviaşirkətlərinin', 'prezidenti', 'mahnılarıkateqoriya', 'diaspor', 'müharibəsi', 'rəhman', 'inşaat', 'hərbçiləriistiqamətləndirmə', 'gözəllik', 'müstəqillik', 'hərbçiləridəfn', 'monako', 'teleseriallarıkamil', 'kinoşünası', 'iqtisadçısı', 'ssristiqamətləndirmə', 'quşlarıböyük', 'quşlarıkiçik', 'quşlarısarı', 'quşlarıvəli', 'quşlarıuzunquyruq', 'quşlarıxınalı', 'quşlarıgözəl', 'quşlarıadi', 'quşlarıcırtdan', 'quşlarıqızılxallı', 'quşlarıəsərləri', 'quşlarıqızılı', 'quşlarıyaxalıqlı', 'quşlarıdəniz', 'cı', 'quşlarıhindistan', 'quşlarısahil', 'quşlarısağsağanı', 'quşlarıqara', 'quşlarıfiyu', 'quşlarıredirectazərbaycan', 'ensiklopediyalarıbülbülü', 'quşlarıçay', 'quşlarıboz', 'quşlarıdəyirmiburun', 'quşlarıdüyməli', 'quşlarısərçəvi', 'quşlarıağquyruq', 'quşlarıqırmızıbaş', 'quşlarıqaradöş', 'quşlarıdu', 'quşlarıislandiya', 'quşlarıüçbarmaq', 'quşlarıqaraca', 'quşlarımeşə', 'quşlarıortaboy', 'quşlarıqrossheym', 'xalqı', 'soylarıəvəz', 'kimyaçısı', 'coğrafiya', 'bəylərbəyliyi', 'tarixixadım', 'ərazisinin', 'inqilabçılarıisrafil', 'inqilabçılarıordubad', 'ssrdoğulanlar', 'ssrağdaş', 'ssrşuşa', 'ssrlənkəran', 'ssraxundov', 'ssrşamaxı', 'ssrqalxancıqdaşıyanlar', 'xəttatlarıgəncəvi', 'ssrtabasarandağıstanda', 'xal', 'pirləri', 'coğrafiyasımiroslav', 'fizikləri', 'gölləri', 'futbolçularıkateqoriya', 'düzənlikləri', 'dilləriyoull', 'kubokunda', 'çaylarıicra', 'çaylarıağdabançay', 'çaylarıturağayçayrivers', 'küçələrigümüş', 'kommunistlərikateqoriya', 'diplomatı', 'sufiləri', 'dillərizulu', 'futbolçularıçuləndər', 'futbolçularıismayıl', 'yoldaşlıq', 'tarixinin', 'qran', 'kəndləripirçevan', 'kəndləriuzunoba', 'mənşəli', 'kəndləribir', 'çaylarıdərinquyu', 'filmləribilal', 'kəndlərimahmud', 'suvarma', 'dağlarıərindərə', 'dağlarıxodi', 'dağlarıqabiel', 'hüquqşünasları', 'siyasətçiləriəlisahib', 'siyasətçiləriəbülmüzəffər', 'mühacirət', 'almaniyaiv', 'τkateqoriya', 'τqalib', 'yollarıkateqoriya', 'ssraleksandr', 'dağlarıbaşqırd', 'ssryüngül', 'kommunistləriilya', 'kommunistləriəli', 'kommunistlərisəməd', 'kommunistlərihüseyn', 'kommunistləriistiqamətləndirmə', 'kommunistləriaqil', 'inqilabçılarıkateqoriya', 'ədəbiyyatıfransa', 'polisləriistiqamətləndirmə', 'polisləriniyə', 'mağaraları', 'iqtisad', 'kommunistlərixasay', 'kommunistləriyefim', 'sərbəst', 'karateçisi', 'hakimi', 'inqilabçı', 'soyadlarışıxəliyev', 'aktyorı', 'soyadlarıistiqamətləndirmə', 'soyadlarıxülasə', 'diplomatlarıistiqamətləndirmə', 'dini', 'tatarıstan', 'kəndləridöyüş', 'relyefi', 'coğrafiyasıyeni', 'sərhədləri', 'çaylarıaşağıda', 'riyaziyyatçısı', 'riyaziyyatçılarıvəfat', 'relyefinin', 'dağlarısalyan', 'sahillərinin', 'cəmiyyətinin', 'versiyasıdır', 'kilsələrikateqoriya', 'sülh', 'nəşriyyatında', 'filmlərireturn', 'klassik', 'komandalarından', 'tərəvəzçilik', 'qarabağı', 'generalı', 'cüdoçusu', 'məscidləritürbələr', 'basketbolçuları', 'repi', 'filmlərivəfat', 'fəlsəfə', 'filmlərialman', 'filmləridf', 'filmlərialtıncı', 'qısametrajlı', 'filmlərigenişləndirilən', 'israilmünasibətləri', 'türkmənistanmünasibətləri', 'iranmünasibətləri', 'pakistanmünasibətləri', 'özbəkistanmünasibətləri', 'tatları', 'qırğızıstanmünasibətləri', 'esvatinimünasibətləri', 'ulduzları', 'filmləriavroviziyanın', 'filmləriqısasifət', 'ekvatorial', 'filmlərifüzuli', 'kinosunun', 'qadınlarından', 'filmlərikürd', 'metrosunun', 'mənzərələri', 'müəllimindən', 'diplomatiyasının', 'pəhləvanlarından', 'yazısının', 'filmlərihadisələr', 'filmləriazərbaycanın', 'oğullarından', 'filmlərie', 'ostanıpietro', 'ostanıiran', 'çörəkləri', 'dirçəliş', 'ədəbiyyatında', 'tikililərixülasə', 'quru', 'məktəbləribakı', 'məktəblərixıllı', 'məktəbləriağdaş', 'məktəblərimehdi', 'məktəblərigəncə', 'məktəbləriistiqamətləndirmə', 'məktəbləriəlvənd', 'bankçısı', 'pambıqçısı', 'musiqiçisi', 'süvari', 'oyunlarıkateqoriya', 'generalları', 'əhalisikateqoriya', 'türkcəsinin', 'hökuməti', 'təşkilatlarıhüseynbəyov', 'münasibətləriyasəmin', 'tarixiaydın', 'soylarıəsgərxanovlar', 'soylarıkateqoriya', 'təşkilatları', 'kültür', 'hərbçiləriəziz', 'soylarıxəlil', 'video', 'azərbaycanqitələr', 'fk', 'zadəganlığıatamalıbəyovlar', 'zadəganlığıxanzadə', 'məhkəmə', 'rublu', 'soylarıağayevlər', 'şəlalələri', 'parlamenti', 'soylarıistiqamətləndirmə', 'fotoqrafları', 'fondları', 'cümhuriyyəti', 'mərkəzi', 'nəşriyyatlarıkateqoriya', 'məktəbi', 'korpusu', 'muzeylərimədəniyyət', 'mədəniyyətihüseynov', 'tarı', 'əsgərləri', 'hökumətikateqoriya', 'rəssamlıq', 'nadir', 'iqtisadiyyat', 'mətbuatı', 'qəzetlərişimali', 'meydanları', 'memarlığıtəvəkkül', 'teleseriallarıkateqoriya', 'küçələri', 'iət', 'parkları', 'iqtisadiyyatıkateqoriya', 'siyahılarıyeni', 'tarixianime', 'etirazları', 'baleti', 'cazı', 'himni', 'operası', 'pop', 'roku', 'tar', 'kinofestivalları', 'tikililərinəqliyyat', 'kinematoqrafışualar', 'qeyri', 'dramaturqu', 'kosta', 'panama', 'hüquqşünaslarımuzeylər', 'rəssamlarıkateqoriya', 'hərbçiləriin', 'meyvəçilik', 'üzümçülük', 'aqromexanika', 'mətbuatıkan', 'müasir', 'təbriz', 'fövqəladə', 'bölgəsinin', 'memarlığısəngan', 'futbolu', 'ostanın', 'kardioloqları', 'fotojurnalisti', 'muzeyləriağacəri', 'xanlıqlarını', 'romanlarıkateqoriya', 'romanlarıbu', 'ismayıllı', 'kəlbəcər', 'laçın', 'xaçmaz', 'xocavənd', 'füzuli', 'albaniya', 'inşaatçılarıhüseynzadə', 'ərazisi', 'ərazisinə', 'ruanda', 'türbələrikateqoriya', 'futbolçularıkiçik', 'filmlərində', 'müsəlmanları', 'əhalisi', 'karvansaraları', 'relyefikateqoriya', 'tərəfindən', 'jurnallarıelman', 'jurnallarıistiot', 'jurnalı', 'jurnallarınational', 'cü', 'jurnallarıxülasə', 'lisenziyaşanlı', 'gəncliyini', 'müəllimi', 'qəzetləriistiqamətləndirmə', 'şəhid', 'publisistləri', 'dendroflorası', 'florasının', 'qoruqlarışablon', 'heykəltəraşlarıabdulabad', 'heykəltəraşlarıkateqoriya', 'heykəltəraşlarıdoğulanlar', 'dağ', 'dağlarıgörməli', 'zadəganlarıgörməli', 'heykəltəraşlarıistiqamətləndirmə', 'kubuku', 'kubokuxülasə', 'classwidth', 'folkloruistiqamətləndirmə', 'teleseriallarıistiqamətləndirmə', 'respublikalarının', 'memarlarışərqi', 'stadionu', 'stadionlarının', 'stadionlarıçullu', 'memarlarıredirectşablon', 'hamamları', 'kosiki', 'memarları']\n",
      "\n",
      "Common words:\n",
      " [('ostanının', 2610), ('respublikasının', 2373), ('respublikası', 1110), ('filmləri', 475), ('ssr', 357), ('kinosu', 251), ('filmlərinin', 232), ('milli', 187), ('xalq', 161), ('dövlət', 148)]\n"
     ]
    }
   ],
   "source": [
    "inp2_1 = input()\n",
    "inp2 = inp2_1.split(\" \")\n",
    "next_word_bi = m2.next(inp2[len(inp2)-1])\n",
    "next_word_bi_prob = mle.score(next_word_bi[0], inp2_1.split())\n",
    "print(\"Next word:\", next_word_bi[0], \"\\nProbability:\", next_word_bi_prob)\n",
    "print(\"\\nList of unique words coming after\",inp2[len(inp2)-1], \":\\n\", next_word_bi[1])\n",
    "print(\"\\nCommon words:\\n\", next_word_bi[2])"
   ]
  },
  {
   "cell_type": "markdown",
   "metadata": {},
   "source": [
    "### Testing Trigrams"
   ]
  },
  {
   "cell_type": "code",
   "execution_count": 20,
   "metadata": {},
   "outputs": [
    {
     "name": "stdout",
     "output_type": "stream",
     "text": [
      "azərbaycan respublikası\n",
      "Next word: milli \n",
      "Probability: 0.26126126126126126\n",
      "\n",
      "List of unique words coming after azərbaycan azərbaycan :\n",
      " ['malayziya', 'antiqua', 'çad', 'şərqi', 'san', 'əlcəzair', 'cənubi', 'misir', 'kuba', 'filippin', 'vatikan', 'prezidentinin', 'əhalisinin', 'quba', 'konstitusiyasının', 'dövlət', 'saylı', 'daxili', 'ədliyyə', 'milli', 'fövqəladə', 'nəqliyyat', 'mərkəzi', 'qusar', 'müdafiə', 'göygöl', 'hacıqabul', 'təhsil', 'ekologiya', 'goranboy', 'şəki', 'cəbrayıl', 'nazirlər', 'ərazisində', 'dini', 'qubadlı', 'göyçay', 'cəlilabad', 'xaçmaz', 'naxçıvan', 'mədəniyyət', 'xatirə', 'indiyə', 'xarici', 'ilə', 'əmlak', 'qiymətli', 'müəllif', 'fəxri', 'silahlı', 'diplomatik', 'vergilər', 'neftçala', 'gənclər', 'prezidenti', 'niger', 'xüsusi', 'səhiyyə', 'rabitə', 'mülki', 'ali', 'prezident', 'memarlıq', 'baş', 'energetika', 'satınalmalar', 'kənd', 'şəmkir', 'avtomobil', 'prezidentin', 'ərazilərinin', 'üçün', 'turizm', 'qazax', 'maliyyə', 'elmlər', 'masallı', 'medallarıkateqoriya', 'medalları', 'arasındakı', 'medallarıaltiki', 'ticarət', 'qobustan', 'yardımlı', 'qanununun', 'nın', 'tərəfindən', 'əməkdar', 'azərbaycan']\n",
      "\n",
      "Common words: \n",
      " [('milli', 290), ('əhalisinin', 104), ('mərkəzi', 98), ('saylı', 94), ('prezidentinin', 91), ('ilə', 64), ('şəmkir', 39), ('dövlət', 30), ('goranboy', 26), ('cəbrayıl', 19)]\n"
     ]
    }
   ],
   "source": [
    "inp3_1 = input()\n",
    "inp3 = inp3_1.split(\" \")\n",
    "next_word_tri = m3.next(inp3[len(inp3)-2], inp3[len(inp3)-1])\n",
    "next_word_tri_prob = mle.score(next_word_tri[0], inp3_1.split())\n",
    "print(\"Next word:\", next_word_tri[0], \"\\nProbability:\", next_word_tri_prob)\n",
    "print(\"\\nList of unique words coming after\",inp3[len(inp3)-2], inp3[len(inp2)-1], \":\\n\", next_word_tri[1])\n",
    "print(\"\\nCommon words: \\n\", next_word_tri[2])"
   ]
  },
  {
   "cell_type": "markdown",
   "metadata": {},
   "source": [
    "### Testing Quadgrams"
   ]
  },
  {
   "cell_type": "code",
   "execution_count": 25,
   "metadata": {},
   "outputs": [
    {
     "name": "stdout",
     "output_type": "stream",
     "text": [
      "azərbaycan respublikasının milli\n",
      "Next word:  məclisinin \n",
      "Probability:  0.2962962962962963\n",
      "\n",
      "List of unique words coming after azərbaycan respublikasının milli :\n",
      " ['məclisibakı', 'məclisinə', 'məclisihyphessobrycon', 'məclisitəkdənli', 'məclisinin', 'məclisi', 'məclisiəhməd', 'qəhrəmanı', 'məclisisibir', 'məclisikateqoriya', 'məclisiredirectnaxçıvan', 'depozit', 'ləl', 'atlası', 'məclisixülasə']\n",
      "\n",
      "Common words:\n",
      " [('məclisinin', 8), ('məclisinə', 5), ('qəhrəmanı', 2), ('məclisibakı', 1), ('məclisihyphessobrycon', 1), ('məclisitəkdənli', 1), ('məclisi', 1), ('məclisiəhməd', 1), ('məclisisibir', 1), ('məclisikateqoriya', 1)]\n"
     ]
    }
   ],
   "source": [
    "inp4_1 = input()\n",
    "inp4 = inp4_1.split(\" \")\n",
    "next_word_quad = m4.next(inp4[len(inp4)-3], inp4[len(inp4)-2], inp4[len(inp4)-1])\n",
    "next_word_quad_prob = mle.score(next_word_quad[0], inp4_1.split())\n",
    "print(\"Next word: \", next_word_quad[0], \"\\nProbability: \", next_word_quad_prob)\n",
    "print(\"\\nList of unique words coming after\",inp4[len(inp4)-3], inp4[len(inp4)-2], inp4[len(inp4)-1], \":\\n\", next_word_quad[1])\n",
    "print(\"\\nCommon words:\\n\", next_word_quad[2])"
   ]
  },
  {
   "cell_type": "markdown",
   "metadata": {},
   "source": [
    "### Testing Fivegrams"
   ]
  },
  {
   "cell_type": "code",
   "execution_count": 26,
   "metadata": {},
   "outputs": [
    {
     "name": "stdout",
     "output_type": "stream",
     "text": [
      "azərbaycan respublikasının milli məclisinin\n",
      "Next word: qərarı \n",
      "Probability: 1.0\n",
      "\n",
      "List of unique words coming after azərbaycan respublikasının milli məclisinin :\n",
      " ['qərarı']\n",
      "\n",
      "Common words:\n",
      " [('qərarı', 8)]\n"
     ]
    }
   ],
   "source": [
    "inp5_1 = input()\n",
    "inp5 = inp5_1.split(\" \")\n",
    "next_word_five =  m5.next(inp5[len(inp5)-4], inp5[len(inp5)-3], inp5[len(inp5)-2], inp5[len(inp5)-1])\n",
    "next_word_five_prob = mle.score(next_word_five[0], inp5_1.split())\n",
    "print(\"Next word:\", next_word_five[0], \"\\nProbability:\", next_word_five_prob)\n",
    "print(\"\\nList of unique words coming after\", inp5[len(inp5)-4], inp5[len(inp5)-3], inp5[len(inp5)-2], inp5[len(inp5)-1], \":\\n\", next_word_five[1])\n",
    "print(\"\\nCommon words:\\n\", next_word_five[2])"
   ]
  },
  {
   "cell_type": "code",
   "execution_count": null,
   "metadata": {},
   "outputs": [],
   "source": []
  }
 ],
 "metadata": {
  "kernelspec": {
   "display_name": "Python 3",
   "language": "python",
   "name": "python3"
  },
  "language_info": {
   "codemirror_mode": {
    "name": "ipython",
    "version": 3
   },
   "file_extension": ".py",
   "mimetype": "text/x-python",
   "name": "python",
   "nbconvert_exporter": "python",
   "pygments_lexer": "ipython3",
   "version": "3.8.2"
  }
 },
 "nbformat": 4,
 "nbformat_minor": 4
}
